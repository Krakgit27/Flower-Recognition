{
 "cells": [
  {
   "cell_type": "code",
   "execution_count": 4,
   "id": "ea4c4310",
   "metadata": {},
   "outputs": [],
   "source": [
    "#Importing Libraries"
   ]
  },
  {
   "cell_type": "code",
   "execution_count": 1,
   "id": "b53761b3",
   "metadata": {},
   "outputs": [],
   "source": [
    "import numpy as np\n",
    "import tensorflow as tf\n",
    "from keras.preprocessing.image import ImageDataGenerator"
   ]
  },
  {
   "cell_type": "code",
   "execution_count": null,
   "id": "ef9134dc",
   "metadata": {},
   "outputs": [],
   "source": [
    "#Data Preprocessing"
   ]
  },
  {
   "cell_type": "code",
   "execution_count": null,
   "id": "f48785d8",
   "metadata": {},
   "outputs": [],
   "source": [
    "#Training Image processing"
   ]
  },
  {
   "cell_type": "code",
   "execution_count": 2,
   "id": "a885316b",
   "metadata": {},
   "outputs": [
    {
     "name": "stdout",
     "output_type": "stream",
     "text": [
      "Found 3482 images belonging to 5 classes.\n"
     ]
    }
   ],
   "source": [
    "train_datagen=ImageDataGenerator(\n",
    "              rescale=1./255,\n",
    "              shear_range=0.2,\n",
    "              zoom_range=0.2,\n",
    "              horizontal_flip=True)\n",
    "training_set=train_datagen.flow_from_directory(\n",
    "             'training_set',target_size=(64,64),batch_size=32,class_mode='categorical')\n"
   ]
  },
  {
   "cell_type": "code",
   "execution_count": null,
   "id": "7a19927a",
   "metadata": {},
   "outputs": [],
   "source": [
    "#Test Image Processing"
   ]
  },
  {
   "cell_type": "code",
   "execution_count": 5,
   "id": "d9924711",
   "metadata": {},
   "outputs": [
    {
     "name": "stdout",
     "output_type": "stream",
     "text": [
      "Found 836 images belonging to 5 classes.\n"
     ]
    }
   ],
   "source": [
    "test_datagen=ImageDataGenerator(rescale=1./255)\n",
    "test_set=test_datagen.flow_from_directory('test_set',target_size=(64,64),batch_size=32,class_mode='categorical')"
   ]
  },
  {
   "cell_type": "code",
   "execution_count": null,
   "id": "1bc31131",
   "metadata": {},
   "outputs": [],
   "source": [
    "#Building Models"
   ]
  },
  {
   "cell_type": "code",
   "execution_count": 6,
   "id": "9df9f414",
   "metadata": {},
   "outputs": [],
   "source": [
    "cnn=tf.keras.models.Sequential()"
   ]
  },
  {
   "cell_type": "code",
   "execution_count": 7,
   "id": "274955bd",
   "metadata": {},
   "outputs": [],
   "source": [
    "#Building Convolution layer "
   ]
  },
  {
   "cell_type": "code",
   "execution_count": 11,
   "id": "e69db869",
   "metadata": {
    "scrolled": true
   },
   "outputs": [],
   "source": [
    "cnn.add(tf.keras.layers.Conv2D(filters=64,kernel_size=3,activation='relu',input_shape=[64,64,3]))\n",
    "cnn.add(tf.keras.layers.MaxPool2D(pool_size=2,strides=2))"
   ]
  },
  {
   "cell_type": "code",
   "execution_count": 12,
   "id": "2a83b4d2",
   "metadata": {},
   "outputs": [],
   "source": [
    "cnn.add(tf.keras.layers.Conv2D(filters=64,kernel_size=3,activation='relu'))\n",
    "cnn.add(tf.keras.layers.MaxPool2D(pool_size=2,strides=2))"
   ]
  },
  {
   "cell_type": "code",
   "execution_count": 13,
   "id": "2a7d203a",
   "metadata": {},
   "outputs": [],
   "source": [
    "cnn.add(tf.keras.layers.Dropout(0.5))"
   ]
  },
  {
   "cell_type": "code",
   "execution_count": 14,
   "id": "8887cc8b",
   "metadata": {},
   "outputs": [],
   "source": [
    "cnn.add(tf.keras.layers.Flatten())"
   ]
  },
  {
   "cell_type": "code",
   "execution_count": 15,
   "id": "6a041f17",
   "metadata": {},
   "outputs": [],
   "source": [
    "cnn.add(tf.keras.layers.Dense(units=128,activation='relu'))"
   ]
  },
  {
   "cell_type": "code",
   "execution_count": 16,
   "id": "8fcf882a",
   "metadata": {},
   "outputs": [],
   "source": [
    "cnn.add(tf.keras.layers.Dense(units=5,activation='softmax'))"
   ]
  },
  {
   "cell_type": "code",
   "execution_count": 17,
   "id": "445411a7",
   "metadata": {},
   "outputs": [],
   "source": [
    "cnn.compile(optimizer='rmsprop',loss='categorical_crossentropy',metrics=['accuracy'])"
   ]
  },
  {
   "cell_type": "code",
   "execution_count": 18,
   "id": "67aa1f87",
   "metadata": {},
   "outputs": [
    {
     "name": "stdout",
     "output_type": "stream",
     "text": [
      "Epoch 1/30\n",
      "109/109 [==============================] - 146s 1s/step - loss: 1.4554 - accuracy: 0.3719 - val_loss: 1.2495 - val_accuracy: 0.4701\n",
      "Epoch 2/30\n",
      "109/109 [==============================] - 80s 732ms/step - loss: 1.2060 - accuracy: 0.5086 - val_loss: 1.0415 - val_accuracy: 0.5873\n",
      "Epoch 3/30\n",
      "109/109 [==============================] - 80s 729ms/step - loss: 1.0883 - accuracy: 0.5724 - val_loss: 0.9929 - val_accuracy: 0.6029\n",
      "Epoch 4/30\n",
      "109/109 [==============================] - 79s 728ms/step - loss: 0.9968 - accuracy: 0.6129 - val_loss: 0.9073 - val_accuracy: 0.6675\n",
      "Epoch 5/30\n",
      "109/109 [==============================] - 79s 729ms/step - loss: 0.9416 - accuracy: 0.6419 - val_loss: 0.9494 - val_accuracy: 0.6471\n",
      "Epoch 6/30\n",
      "109/109 [==============================] - 81s 741ms/step - loss: 0.8729 - accuracy: 0.6703 - val_loss: 1.0315 - val_accuracy: 0.6376\n",
      "Epoch 7/30\n",
      "109/109 [==============================] - 77s 704ms/step - loss: 0.8465 - accuracy: 0.6758 - val_loss: 0.9322 - val_accuracy: 0.6567\n",
      "Epoch 8/30\n",
      "109/109 [==============================] - 80s 732ms/step - loss: 0.8307 - accuracy: 0.6939 - val_loss: 0.8361 - val_accuracy: 0.7105\n",
      "Epoch 9/30\n",
      "109/109 [==============================] - 80s 730ms/step - loss: 0.7782 - accuracy: 0.7053 - val_loss: 0.9255 - val_accuracy: 0.6734\n",
      "Epoch 10/30\n",
      "109/109 [==============================] - 81s 739ms/step - loss: 0.7650 - accuracy: 0.7117 - val_loss: 0.8521 - val_accuracy: 0.6806\n",
      "Epoch 11/30\n",
      "109/109 [==============================] - 78s 719ms/step - loss: 0.7421 - accuracy: 0.7252 - val_loss: 0.7550 - val_accuracy: 0.7069\n",
      "Epoch 12/30\n",
      "109/109 [==============================] - 78s 713ms/step - loss: 0.7048 - accuracy: 0.7410 - val_loss: 0.8188 - val_accuracy: 0.7177\n",
      "Epoch 13/30\n",
      "109/109 [==============================] - 82s 748ms/step - loss: 0.6810 - accuracy: 0.7410 - val_loss: 1.0115 - val_accuracy: 0.6388\n",
      "Epoch 14/30\n",
      "109/109 [==============================] - 79s 729ms/step - loss: 0.6577 - accuracy: 0.7550 - val_loss: 0.7434 - val_accuracy: 0.7165\n",
      "Epoch 15/30\n",
      "109/109 [==============================] - 80s 734ms/step - loss: 0.6343 - accuracy: 0.7542 - val_loss: 0.8955 - val_accuracy: 0.6746\n",
      "Epoch 16/30\n",
      "109/109 [==============================] - 79s 721ms/step - loss: 0.6097 - accuracy: 0.7769 - val_loss: 0.7764 - val_accuracy: 0.7261\n",
      "Epoch 17/30\n",
      "109/109 [==============================] - 80s 734ms/step - loss: 0.6024 - accuracy: 0.7777 - val_loss: 0.8434 - val_accuracy: 0.7033\n",
      "Epoch 18/30\n",
      "109/109 [==============================] - 81s 742ms/step - loss: 0.5891 - accuracy: 0.7797 - val_loss: 0.8568 - val_accuracy: 0.7045\n",
      "Epoch 19/30\n",
      "109/109 [==============================] - 80s 734ms/step - loss: 0.5571 - accuracy: 0.7955 - val_loss: 0.9650 - val_accuracy: 0.6663\n",
      "Epoch 20/30\n",
      "109/109 [==============================] - 81s 741ms/step - loss: 0.5360 - accuracy: 0.8016 - val_loss: 0.9841 - val_accuracy: 0.6914\n",
      "Epoch 21/30\n",
      "109/109 [==============================] - 81s 746ms/step - loss: 0.5472 - accuracy: 0.7995 - val_loss: 1.0562 - val_accuracy: 0.6531\n",
      "Epoch 22/30\n",
      "109/109 [==============================] - 80s 737ms/step - loss: 0.5201 - accuracy: 0.8156 - val_loss: 0.8051 - val_accuracy: 0.7105\n",
      "Epoch 23/30\n",
      "109/109 [==============================] - 81s 747ms/step - loss: 0.5063 - accuracy: 0.8162 - val_loss: 0.9079 - val_accuracy: 0.7045\n",
      "Epoch 24/30\n",
      "109/109 [==============================] - 80s 736ms/step - loss: 0.4637 - accuracy: 0.8283 - val_loss: 1.0500 - val_accuracy: 0.7201\n",
      "Epoch 25/30\n",
      "109/109 [==============================] - 81s 747ms/step - loss: 0.4752 - accuracy: 0.8271 - val_loss: 1.0019 - val_accuracy: 0.6902\n",
      "Epoch 26/30\n",
      "109/109 [==============================] - 80s 734ms/step - loss: 0.4527 - accuracy: 0.8297 - val_loss: 0.8296 - val_accuracy: 0.7344\n",
      "Epoch 27/30\n",
      "109/109 [==============================] - 82s 754ms/step - loss: 0.4457 - accuracy: 0.8446 - val_loss: 0.9458 - val_accuracy: 0.7237\n",
      "Epoch 28/30\n",
      "109/109 [==============================] - 87s 800ms/step - loss: 0.4374 - accuracy: 0.8458 - val_loss: 0.8793 - val_accuracy: 0.7081\n",
      "Epoch 29/30\n",
      "109/109 [==============================] - 96s 887ms/step - loss: 0.4271 - accuracy: 0.8475 - val_loss: 0.9083 - val_accuracy: 0.7045\n",
      "Epoch 30/30\n",
      "109/109 [==============================] - 103s 943ms/step - loss: 0.4110 - accuracy: 0.8530 - val_loss: 0.9405 - val_accuracy: 0.7249\n"
     ]
    },
    {
     "data": {
      "text/plain": [
       "<keras.callbacks.History at 0x1fcedafcd00>"
      ]
     },
     "execution_count": 18,
     "metadata": {},
     "output_type": "execute_result"
    }
   ],
   "source": [
    "cnn.fit(x=training_set,validation_data=test_set,epochs=30)"
   ]
  },
  {
   "cell_type": "code",
   "execution_count": 19,
   "id": "fa28fa85",
   "metadata": {},
   "outputs": [],
   "source": [
    "#Preprocess New Image"
   ]
  },
  {
   "cell_type": "code",
   "execution_count": 90,
   "id": "6ba49dd4",
   "metadata": {},
   "outputs": [
    {
     "name": "stdout",
     "output_type": "stream",
     "text": [
      "1/1 [==============================] - 0s 31ms/step\n"
     ]
    }
   ],
   "source": [
    "from keras.preprocessing import image\n",
    "test_image=tf.keras.utils.load_img('Prediction/carnation.jpg',target_size=(64,64))\n",
    "test_image=tf.keras.utils.img_to_array(test_image)\n",
    "test_image=np.expand_dims(test_image,axis=0)\n",
    "result=cnn.predict(test_image)"
   ]
  },
  {
   "cell_type": "code",
   "execution_count": 91,
   "id": "99d34584",
   "metadata": {},
   "outputs": [
    {
     "data": {
      "text/plain": [
       "{'daisy': 0, 'dandelion': 1, 'rose': 2, 'sunflower': 3, 'tulip': 4}"
      ]
     },
     "execution_count": 91,
     "metadata": {},
     "output_type": "execute_result"
    }
   ],
   "source": [
    "training_set.class_indices"
   ]
  },
  {
   "cell_type": "code",
   "execution_count": 92,
   "id": "de0cfc65",
   "metadata": {},
   "outputs": [
    {
     "name": "stdout",
     "output_type": "stream",
     "text": [
      "[[0. 0. 1. 0. 0.]]\n"
     ]
    }
   ],
   "source": [
    "print(result)"
   ]
  },
  {
   "cell_type": "code",
   "execution_count": 93,
   "id": "ef5160c1",
   "metadata": {},
   "outputs": [
    {
     "name": "stdout",
     "output_type": "stream",
     "text": [
      "Rose\n"
     ]
    }
   ],
   "source": [
    "if result[0][0]==1:\n",
    "    print('Daisy')\n",
    "elif result[0][1]==1:\n",
    "    print('Dandelion')\n",
    "elif result[0][2]==1:\n",
    "    print('Rose')\n",
    "elif result[0][3]==1:\n",
    "    print('Sunflower')\n",
    "elif result[0][4]:\n",
    "    print('Tulip')"
   ]
  },
  {
   "cell_type": "code",
   "execution_count": null,
   "id": "94f5b076",
   "metadata": {},
   "outputs": [],
   "source": []
  },
  {
   "cell_type": "code",
   "execution_count": null,
   "id": "6145978f",
   "metadata": {},
   "outputs": [],
   "source": []
  }
 ],
 "metadata": {
  "kernelspec": {
   "display_name": "Python 3 (ipykernel)",
   "language": "python",
   "name": "python3"
  },
  "language_info": {
   "codemirror_mode": {
    "name": "ipython",
    "version": 3
   },
   "file_extension": ".py",
   "mimetype": "text/x-python",
   "name": "python",
   "nbconvert_exporter": "python",
   "pygments_lexer": "ipython3",
   "version": "3.9.13"
  }
 },
 "nbformat": 4,
 "nbformat_minor": 5
}
